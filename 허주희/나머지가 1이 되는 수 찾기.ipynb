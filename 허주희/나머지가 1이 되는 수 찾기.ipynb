{
 "cells": [
  {
   "cell_type": "code",
   "execution_count": null,
   "metadata": {},
   "outputs": [],
   "source": [
    "def solution(n):\n",
    "    answer = []\n",
    "    \n",
    "    for q in range(n) :\n",
    "        q += 1\n",
    "        x = 0\n",
    "        for x in range(n) :\n",
    "            x += 1\n",
    "            if q * x == n-1 :\n",
    "                answer.append(x)\n",
    "                break\n",
    "        answer.sort()\n",
    "        \n",
    "    return answer[1]"
   ]
  }
 ],
 "metadata": {
  "kernelspec": {
   "display_name": "Python 3",
   "language": "python",
   "name": "python3"
  },
  "language_info": {
   "codemirror_mode": {
    "name": "ipython",
    "version": 3
   },
   "file_extension": ".py",
   "mimetype": "text/x-python",
   "name": "python",
   "nbconvert_exporter": "python",
   "pygments_lexer": "ipython3",
   "version": "3.8.5"
  }
 },
 "nbformat": 4,
 "nbformat_minor": 4
}
