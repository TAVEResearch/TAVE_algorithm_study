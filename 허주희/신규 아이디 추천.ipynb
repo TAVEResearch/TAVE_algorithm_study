{
 "cells": [
  {
   "cell_type": "code",
   "execution_count": null,
   "metadata": {},
   "outputs": [],
   "source": [
    "def solution(new_id):\n",
    "    answer = \"\"\n",
    "    temp = \"\"\n",
    "\n",
    "    new_id = new_id.lower()\n",
    "\n",
    "    for i in range(len(new_id)):\n",
    "        char = new_id[i]\n",
    "        if char.islower() or char.isdigit() or char == '-' or char == '_' or char == '.':\n",
    "            temp += char\n",
    "\n",
    "    while True:\n",
    "        if \"..\" in temp:\n",
    "            temp = temp.replace(\"..\", \".\", len(temp))\n",
    "        else:\n",
    "            break\n",
    "\n",
    "    temp = temp.strip(\".\")\n",
    "\n",
    "    if temp == \"\":\n",
    "        temp = \"a\"\n",
    "\n",
    "    if len(temp) >= 16:\n",
    "        temp = temp[0:15]\n",
    "    temp = temp.strip(\".\")\n",
    "\n",
    "    while True:\n",
    "        if len(temp) <= 2:\n",
    "            temp += temp[-1]\n",
    "        else:\n",
    "            break\n",
    "\n",
    "    answer = temp\n",
    "\n",
    "    return answer"
   ]
  }
 ],
 "metadata": {
  "kernelspec": {
   "display_name": "Python 3",
   "language": "python",
   "name": "python3"
  },
  "language_info": {
   "codemirror_mode": {
    "name": "ipython",
    "version": 3
   },
   "file_extension": ".py",
   "mimetype": "text/x-python",
   "name": "python",
   "nbconvert_exporter": "python",
   "pygments_lexer": "ipython3",
   "version": "3.8.5"
  }
 },
 "nbformat": 4,
 "nbformat_minor": 4
}
