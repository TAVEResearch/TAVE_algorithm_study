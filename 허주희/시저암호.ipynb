{
 "cells": [
  {
   "cell_type": "code",
   "execution_count": null,
   "metadata": {},
   "outputs": [],
   "source": [
    "def solution(s, n):\n",
    "    x = \"abcdefghijklmnopqrstuvwxyz\"\n",
    "    X = \"ABCDEFGHIJKLMNOPQRSTUVWXYZ\"\n",
    "    answer = []\n",
    "\n",
    "    for i in s:\n",
    "        if i.islower() is True :\n",
    "            ans = (x.index(i) + n)%26\n",
    "            answer.append(x[ans])\n",
    "        elif i.isupper() is True :\n",
    "            ans = (X.index(i) + n)%26\n",
    "            answer.append(X[ans])\n",
    "        elif i == \" \":\n",
    "            answer.append(\" \")\n",
    "\n",
    "    return \"\".join(answer)\n",
    "\n",
    "    return answer"
   ]
  }
 ],
 "metadata": {
  "kernelspec": {
   "display_name": "Python 3",
   "language": "python",
   "name": "python3"
  },
  "language_info": {
   "codemirror_mode": {
    "name": "ipython",
    "version": 3
   },
   "file_extension": ".py",
   "mimetype": "text/x-python",
   "name": "python",
   "nbconvert_exporter": "python",
   "pygments_lexer": "ipython3",
   "version": "3.8.5"
  }
 },
 "nbformat": 4,
 "nbformat_minor": 4
}
