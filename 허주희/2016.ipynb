{
 "cells": [
  {
   "cell_type": "code",
   "execution_count": null,
   "metadata": {},
   "outputs": [],
   "source": [
    "def solution(a, b):\n",
    "    answer = ''\n",
    "    month = 0\n",
    "    lst = [\"SUN\", \"MON\", \"TUE\", \"WED\", \"THU\", \"FRI\", \"SAT\"]\n",
    "    for i in range(1, a+1) :\n",
    "        if i == 3 or i == 5 or i == 7 or i == 8 or i == 10 or i == 12 :\n",
    "            month += 31\n",
    "        elif i == 4 or i == 6 or i == 9 or i == 11 :\n",
    "            month += 30\n",
    "        elif i == 2 :\n",
    "            month += 29\n",
    "        elif i == 1 :\n",
    "            month = 0\n",
    "\n",
    "    month += (b - 1)\n",
    "\n",
    "    if month % 7 == 0 :\n",
    "        answer = lst[5]\n",
    "    elif month % 7 == 1 :\n",
    "        answer = lst[6]\n",
    "    elif month % 7 == 2 :\n",
    "        answer = lst[0]\n",
    "    elif month % 7 == 3:\n",
    "        answer = lst[1]\n",
    "    elif month % 7 == 4:\n",
    "        answer = lst[2]\n",
    "    elif month % 7 == 5:\n",
    "        answer = lst[3]\n",
    "    elif month % 7 == 6:\n",
    "        answer = lst[4]\n",
    "\n",
    "    return answer\n",
    "\n",
    "a = 3\n",
    "b = 3\n",
    "print(solution(a,b))"
   ]
  }
 ],
 "metadata": {
  "kernelspec": {
   "display_name": "Python 3",
   "language": "python",
   "name": "python3"
  },
  "language_info": {
   "codemirror_mode": {
    "name": "ipython",
    "version": 3
   },
   "file_extension": ".py",
   "mimetype": "text/x-python",
   "name": "python",
   "nbconvert_exporter": "python",
   "pygments_lexer": "ipython3",
   "version": "3.8.5"
  }
 },
 "nbformat": 4,
 "nbformat_minor": 4
}
