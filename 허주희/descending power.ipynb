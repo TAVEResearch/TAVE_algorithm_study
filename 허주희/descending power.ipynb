{
 "cells": [
  {
   "cell_type": "code",
   "execution_count": 5,
   "metadata": {},
   "outputs": [],
   "source": [
    "def solution(n):\n",
    "\n",
    "    strn = list(str(n)) ## n을 문자열로 바꿔준 뒤 list를 이용해\n",
    "                        ## 하나하나씩 모두 나눠준다.\n",
    "    strn.sort() ## 오름차순으로 정렬\n",
    "    strn.reverse() ## 내림차순으로 정렬\n",
    "    \n",
    "    answer = int(\"\".join(strn)) ## 여러개로 나눠진 리스트를 하나로 합쳐준 뒤 정수 변환\n",
    "\n",
    "    return answer"
   ]
  },
  {
   "cell_type": "markdown",
   "metadata": {},
   "source": [
    "### * 문자열 하나씩 모두 나누기"
   ]
  },
  {
   "cell_type": "code",
   "execution_count": 3,
   "metadata": {},
   "outputs": [
    {
     "name": "stdout",
     "output_type": "stream",
     "text": [
      "['i', 'l', 'o', 'v', 'e', 'y', 'o', 'u']\n"
     ]
    }
   ],
   "source": [
    "a = \"iloveyou\"\n",
    "print(list(a))"
   ]
  },
  {
   "cell_type": "markdown",
   "metadata": {},
   "source": [
    "### * 문자열 합치기"
   ]
  },
  {
   "cell_type": "markdown",
   "metadata": {},
   "source": [
    "\"문자 사이에 삽입하고 싶은 문자\".join(리스트 or 튜플)"
   ]
  },
  {
   "cell_type": "code",
   "execution_count": 4,
   "metadata": {},
   "outputs": [
    {
     "name": "stdout",
     "output_type": "stream",
     "text": [
      "123\n",
      "1a2a3\n"
     ]
    }
   ],
   "source": [
    "a = [\"1\", \"2\", \"3\"]\n",
    "print(\"\".join(a))\n",
    "print(\"a\".join(a))"
   ]
  }
 ],
 "metadata": {
  "kernelspec": {
   "display_name": "Python 3",
   "language": "python",
   "name": "python3"
  },
  "language_info": {
   "codemirror_mode": {
    "name": "ipython",
    "version": 3
   },
   "file_extension": ".py",
   "mimetype": "text/x-python",
   "name": "python",
   "nbconvert_exporter": "python",
   "pygments_lexer": "ipython3",
   "version": "3.8.5"
  }
 },
 "nbformat": 4,
 "nbformat_minor": 4
}
