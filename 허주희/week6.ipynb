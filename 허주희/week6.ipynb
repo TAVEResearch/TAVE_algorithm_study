{
 "cells": [
  {
   "cell_type": "code",
   "execution_count": 1,
   "metadata": {},
   "outputs": [
    {
     "name": "stdout",
     "output_type": "stream",
     "text": [
      "[3, 4, 1, 2]\n"
     ]
    }
   ],
   "source": [
    "from collections import defaultdict\n",
    "\n",
    "def solution(weights, head2head):\n",
    "    info = defaultdict(list)\n",
    "    for i in range(len(weights)) : ## 내 몸무게, 스코어, 이긴 횟수, 몸무게가 많은 상대 이긴횟수, 전체 경기수\n",
    "        iweight = weights[i]\n",
    "        iscore = head2head[i]\n",
    "        iwin, iweightwin, iall = 0,0,0\n",
    "\n",
    "        for k in range(len(weights)) :\n",
    "            uweights = weights[k] ## 상대 몸무게\n",
    "            if i == k :\n",
    "                continue\n",
    "            if iscore[k] == \"W\" :\n",
    "                iwin += 1\n",
    "                if iweight < uweights :\n",
    "                    iweightwin += 1\n",
    "            iall += 1\n",
    "\n",
    "        if iall >0 : ## 승률 구하기\n",
    "            score_per = iwin/iall\n",
    "        else :\n",
    "            score_per = 0\n",
    "\n",
    "        info[i+1].append(score_per)\n",
    "        info[i+1].append(iweightwin)\n",
    "        info[i+1].append(iweight)\n",
    "        info[i+1].append(i+1)\n",
    "\n",
    "    sortedList = sorted(info.values(), key = lambda x : (-x[0], -x[1], -x[2], x[3])) ## 정렬\n",
    "    answer = [sortedList[idx][3] for idx in range(len(weights))]\n",
    "\n",
    "    return answer\n",
    "\n",
    "weights = [50,82,75,120]\n",
    "head2head = [\"NLWL\",\"WNLL\",\"LWNW\",\"WWLN\"]\n",
    "print(solution(weights, head2head))"
   ]
  },
  {
   "cell_type": "code",
   "execution_count": 2,
   "metadata": {},
   "outputs": [
    {
     "name": "stdout",
     "output_type": "stream",
     "text": [
      "1478\n"
     ]
    }
   ],
   "source": [
    "def solution(s) :\n",
    "  eng = ['zero','one','two', 'three', 'four','five','six','seven','eight','nine']\n",
    "  answer = ''\n",
    "\n",
    "  for i, e in enumerate(eng):\n",
    "    if e in s :\n",
    "      s = s.replace(e, str(i)) ##str변환\n",
    "    answer = s\n",
    "  return int(answer)\n",
    "\n",
    "s= \"one4seveneight\"\n",
    "print(solution(s))"
   ]
  }
 ],
 "metadata": {
  "kernelspec": {
   "display_name": "Python 3",
   "language": "python",
   "name": "python3"
  },
  "language_info": {
   "codemirror_mode": {
    "name": "ipython",
    "version": 3
   },
   "file_extension": ".py",
   "mimetype": "text/x-python",
   "name": "python",
   "nbconvert_exporter": "python",
   "pygments_lexer": "ipython3",
   "version": "3.8.5"
  }
 },
 "nbformat": 4,
 "nbformat_minor": 4
}
