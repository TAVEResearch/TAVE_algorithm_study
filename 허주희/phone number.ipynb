{
 "cells": [
  {
   "cell_type": "code",
   "execution_count": 14,
   "metadata": {},
   "outputs": [
    {
     "name": "stdout",
     "output_type": "stream",
     "text": [
      "*******1234\n"
     ]
    }
   ],
   "source": [
    "def solution(phone_number):\n",
    "    numlen = len(phone_number) - 4 ##phone_number의 길이 구한 다음 뒷 네자리를 뺀 개수 계산\n",
    "    star = \"\"\n",
    "    for _ in range(numlen) : ##'*'표시 할 부분 만듦\n",
    "        star += \"*\"\n",
    "    phone_number_re = phone_number[-4:] ## phone_number 뒤에서부터 4자리 구해줌\n",
    "\n",
    "    answer = star + phone_number_re ##합쳐서 answer출력\n",
    "    return answer\n",
    "    \n",
    "phone_number = \"01055551234\"\n",
    "sol = solution(phone_number)\n",
    "print(sol)"
   ]
  },
  {
   "cell_type": "markdown",
   "metadata": {},
   "source": [
    "- 문자열 인덱싱과 슬라이싱"
   ]
  },
  {
   "cell_type": "markdown",
   "metadata": {},
   "source": [
    "https://blog.naver.com/2_3jy/222444906044"
   ]
  }
 ],
 "metadata": {
  "kernelspec": {
   "display_name": "Python 3",
   "language": "python",
   "name": "python3"
  },
  "language_info": {
   "codemirror_mode": {
    "name": "ipython",
    "version": 3
   },
   "file_extension": ".py",
   "mimetype": "text/x-python",
   "name": "python",
   "nbconvert_exporter": "python",
   "pygments_lexer": "ipython3",
   "version": "3.8.5"
  }
 },
 "nbformat": 4,
 "nbformat_minor": 4
}
