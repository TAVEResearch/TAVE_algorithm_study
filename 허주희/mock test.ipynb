{
 "cells": [
  {
   "cell_type": "code",
   "execution_count": 1,
   "metadata": {},
   "outputs": [],
   "source": [
    "def solution(answers):\n",
    "    cor = [0]*3\n",
    "    result = []\n",
    "    stu = [1, 2, 3, 4, 5]\n",
    "    stu2 = [2, 1, 2, 3, 2, 4, 2, 5]\n",
    "    stu3 = [3, 3, 1, 1, 2, 2, 4, 4, 5, 5]\n",
    "\n",
    "    for count, ans in enumerate(answers):\n",
    "        if ans == stu[count % 5]:\n",
    "            cor[0] += 1\n",
    "        if ans == stu2[count % 8]:\n",
    "            cor[1] += 1\n",
    "        if ans == stu3[count % 10]:\n",
    "            cor[2] += 1\n",
    "\n",
    "    high = max(cor)\n",
    "\n",
    "    for count, ans in enumerate(cor):\n",
    "        if ans == high:\n",
    "            result.append(count + 1)\n",
    "\n",
    "    return result"
   ]
  }
 ],
 "metadata": {
  "kernelspec": {
   "display_name": "Python 3",
   "language": "python",
   "name": "python3"
  },
  "language_info": {
   "codemirror_mode": {
    "name": "ipython",
    "version": 3
   },
   "file_extension": ".py",
   "mimetype": "text/x-python",
   "name": "python",
   "nbconvert_exporter": "python",
   "pygments_lexer": "ipython3",
   "version": "3.8.5"
  }
 },
 "nbformat": 4,
 "nbformat_minor": 4
}
