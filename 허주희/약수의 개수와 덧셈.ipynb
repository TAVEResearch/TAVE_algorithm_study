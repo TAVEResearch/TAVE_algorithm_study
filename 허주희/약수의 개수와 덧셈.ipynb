{
 "cells": [
  {
   "cell_type": "code",
   "execution_count": 5,
   "metadata": {},
   "outputs": [
    {
     "name": "stdout",
     "output_type": "stream",
     "text": [
      "43\n"
     ]
    }
   ],
   "source": [
    "def solution(left, right):\n",
    "    answer = 0\n",
    "    check = 0\n",
    "    \n",
    "    for i in range(left, right+1) :\n",
    "        check = 0\n",
    "        for n in range(1, i+1) :\n",
    "            if i % n == 0 :\n",
    "                check += 1\n",
    "        if check % 2 == 0 :\n",
    "            answer += i\n",
    "        else :\n",
    "            answer -= i\n",
    "                \n",
    "    return answer\n",
    "\n",
    "left=13\n",
    "right=17\n",
    "print(solution(left, right))"
   ]
  }
 ],
 "metadata": {
  "kernelspec": {
   "display_name": "Python 3",
   "language": "python",
   "name": "python3"
  },
  "language_info": {
   "codemirror_mode": {
    "name": "ipython",
    "version": 3
   },
   "file_extension": ".py",
   "mimetype": "text/x-python",
   "name": "python",
   "nbconvert_exporter": "python",
   "pygments_lexer": "ipython3",
   "version": "3.8.5"
  }
 },
 "nbformat": 4,
 "nbformat_minor": 4
}
