{
 "cells": [
  {
   "cell_type": "code",
   "execution_count": null,
   "metadata": {},
   "outputs": [],
   "source": [
    "def solution(scores):\n",
    "    result = ''\n",
    "\n",
    "    for i in range(len(scores)):\n",
    "        sco = []\n",
    "        for k in range(len(scores)):\n",
    "            sco.append(scores[k][i])\n",
    "\n",
    "        if (sco[i] == min(sco) and sco.count(sco[i]) == 1):\n",
    "            sco.pop(i)\n",
    "        elif (sco[i] == max(sco) and sco.count(sco[i]) == 1):\n",
    "            sco.pop(i)\n",
    "\n",
    "        sco2 = sum(sco) / len(sco)\n",
    "\n",
    "        if sco2 >= 90:\n",
    "            result += 'A'\n",
    "        elif sco2 >= 80:\n",
    "            result += 'B'\n",
    "        elif sco2 >= 70:\n",
    "            result += 'C'\n",
    "        elif sco2 >= 50:\n",
    "            result += 'D'\n",
    "        else:\n",
    "            result += 'F'\n",
    "\n",
    "    return result"
   ]
  },
  {
   "cell_type": "code",
   "execution_count": null,
   "metadata": {},
   "outputs": [],
   "source": []
  }
 ],
 "metadata": {
  "kernelspec": {
   "display_name": "Python 3",
   "language": "python",
   "name": "python3"
  },
  "language_info": {
   "codemirror_mode": {
    "name": "ipython",
    "version": 3
   },
   "file_extension": ".py",
   "mimetype": "text/x-python",
   "name": "python",
   "nbconvert_exporter": "python",
   "pygments_lexer": "ipython3",
   "version": "3.8.5"
  }
 },
 "nbformat": 4,
 "nbformat_minor": 4
}
