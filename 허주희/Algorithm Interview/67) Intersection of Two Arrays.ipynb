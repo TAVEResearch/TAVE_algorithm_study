{
 "cells": [
  {
   "cell_type": "markdown",
   "metadata": {},
   "source": [
    "# 67. 두 배열의 교집합"
   ]
  },
  {
   "cell_type": "markdown",
   "metadata": {},
   "source": [
    "![Alt text](./67번예제.png)"
   ]
  },
  {
   "cell_type": "markdown",
   "metadata": {},
   "source": [
    "### * 브루트 포스로 계산"
   ]
  },
  {
   "cell_type": "code",
   "execution_count": 10,
   "metadata": {},
   "outputs": [
    {
     "name": "stdout",
     "output_type": "stream",
     "text": [
      "{2}\n"
     ]
    }
   ],
   "source": [
    "from typing import List, Set\n",
    "\n",
    "\n",
    "class Solution:\n",
    "    def intersection(self, nums1: List[int], nums2: List[int]) -> List[int]:\n",
    "        result: Set = set()\n",
    "        for n1 in nums1:\n",
    "            for n2 in nums2:\n",
    "                if n1 == n2:\n",
    "                    result.add(n1)\n",
    "\n",
    "        return result\n",
    "\n",
    "num1 = [1,2,2,1]\n",
    "num2 = [2,2]\n",
    "sol = (Solution().intersection(num1, num2))\n",
    "print(sol)"
   ]
  },
  {
   "cell_type": "markdown",
   "metadata": {},
   "source": [
    "![Alt text](./브루트포스.gif)"
   ]
  },
  {
   "cell_type": "markdown",
   "metadata": {},
   "source": [
    "* set 집합 특징"
   ]
  },
  {
   "cell_type": "markdown",
   "metadata": {},
   "source": [
    "1. 원소 중복 없음\n",
    "1. 원소 순서 없음"
   ]
  },
  {
   "cell_type": "markdown",
   "metadata": {},
   "source": [
    "### * 이진 검색으로 일치 여부 판별"
   ]
  },
  {
   "cell_type": "code",
   "execution_count": 11,
   "metadata": {},
   "outputs": [],
   "source": [
    "import bisect\n",
    "from typing import List, Set\n",
    "\n",
    "\n",
    "class Solution:\n",
    "    def intersection(self, nums1: List[int], nums2: List[int]) -> List[int]:\n",
    "        result: Set = set()\n",
    "        nums2.sort()\n",
    "        for n1 in nums1:\n",
    "            # 이진 검색으로 일치 여부 판별\n",
    "            i2 = bisect.bisect_left(nums2, n1)\n",
    "            if len(nums2) > 0 and len(nums2) > i2 and n1 == nums2[i2]:\n",
    "                result.add(n1)\n",
    "\n",
    "        return result"
   ]
  },
  {
   "cell_type": "markdown",
   "metadata": {},
   "source": [
    " "
   ]
  },
  {
   "cell_type": "markdown",
   "metadata": {},
   "source": [
    "* bisect 라이브러리"
   ]
  },
  {
   "cell_type": "markdown",
   "metadata": {},
   "source": [
    "bisect는 파이썬에서 제공하는 표준 라이브러리다. sys, heapq, math 와 마찬가지로, 파이썬에서는 기본적인 프로그래밍을 지원하기 위한 몇 가지 모듈을 제공하는데 bisect도 그 중 하나이다.\n",
    "\n",
    "bisect는 이진 검색 알고리즘을 이용해서 시퀀스를 검색하고, 시퀀스에 항목을 삽입할 수 있는 함수를 제공한다.\n",
    "이 모듈을 활용하면 별도의 트리 구조 파일을 만들지 않고도 이진 탐색 알고리즘을 활용할 수 있다."
   ]
  },
  {
   "cell_type": "markdown",
   "metadata": {},
   "source": [
    "> 1. bisect"
   ]
  },
  {
   "cell_type": "code",
   "execution_count": 12,
   "metadata": {},
   "outputs": [
    {
     "name": "stdout",
     "output_type": "stream",
     "text": [
      "1\n"
     ]
    }
   ],
   "source": [
    "import bisect\n",
    "\n",
    "arr = [1,3,4,5]\n",
    "print(bisect.bisect(arr,2))"
   ]
  },
  {
   "cell_type": "markdown",
   "metadata": {},
   "source": [
    "![Alt text](./bisect.png)"
   ]
  },
  {
   "cell_type": "markdown",
   "metadata": {},
   "source": [
    "bisect(a, x, Io = 0, hi = len(a)) : a라는 오름차순으로 정리된 리스트에 x가 들어갈 위치를 return한다."
   ]
  },
  {
   "cell_type": "markdown",
   "metadata": {},
   "source": [
    "> 2. bisect_ right()\n",
    "> 3. bisect_left()"
   ]
  },
  {
   "cell_type": "code",
   "execution_count": 14,
   "metadata": {},
   "outputs": [
    {
     "name": "stdout",
     "output_type": "stream",
     "text": [
      "2\n",
      "1\n"
     ]
    }
   ],
   "source": [
    "import bisect\n",
    "\n",
    "arr = [1,3,4,5]\n",
    "\n",
    "print(bisect.bisect_right(arr, 3))\n",
    "print(bisect.bisect_left(arr, 3))"
   ]
  },
  {
   "cell_type": "markdown",
   "metadata": {},
   "source": [
    "bisect_right( )는 x와 동일한 값이 리스트 a에 존재할 때, x와 동일한 값 바로 뒤 위치를 리턴한다.\n",
    "\n",
    "bisect_left( )는 위와 같은 경우, x의 위치를 리턴한다."
   ]
  },
  {
   "cell_type": "markdown",
   "metadata": {},
   "source": [
    "### * 투 포인터로 일치 여부 판별"
   ]
  },
  {
   "cell_type": "code",
   "execution_count": null,
   "metadata": {},
   "outputs": [],
   "source": [
    "from typing import List, Set\n",
    "\n",
    "\n",
    "class Solution:\n",
    "    def intersection(self, nums1: List[int], nums2: List[int]) -> List[int]:\n",
    "        result: Set = set()\n",
    "        # 양쪽 모두 정렬\n",
    "        nums1.sort()\n",
    "        nums2.sort()\n",
    "        i = j = 0\n",
    "        # 투 포인터 우측으로 이동하며 일치 여부 판별\n",
    "        while i < len(nums1) and j < len(nums2):\n",
    "            if nums1[i] > nums2[j]:\n",
    "                j += 1\n",
    "            elif nums1[i] < nums2[j]:\n",
    "                i += 1\n",
    "            else:\n",
    "                result.add(nums1[i])\n",
    "                i += 1\n",
    "                j += 1\n",
    "\n",
    "        return result"
   ]
  },
  {
   "cell_type": "markdown",
   "metadata": {},
   "source": [
    "![Alt text](./gif2.gif)"
   ]
  }
 ],
 "metadata": {
  "kernelspec": {
   "display_name": "Python 3",
   "language": "python",
   "name": "python3"
  },
  "language_info": {
   "codemirror_mode": {
    "name": "ipython",
    "version": 3
   },
   "file_extension": ".py",
   "mimetype": "text/x-python",
   "name": "python",
   "nbconvert_exporter": "python",
   "pygments_lexer": "ipython3",
   "version": "3.8.5"
  }
 },
 "nbformat": 4,
 "nbformat_minor": 4
}
