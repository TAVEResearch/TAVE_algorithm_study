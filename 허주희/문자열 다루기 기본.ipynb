{
 "cells": [
  {
   "cell_type": "code",
   "execution_count": null,
   "metadata": {},
   "outputs": [],
   "source": [
    "def solution(s):\n",
    "    check = len(s)\n",
    "    \n",
    "    if check == 4 or check ==6:\n",
    "        for i in range(check):\n",
    "            num = s[i].isdigit()\n",
    "            ##숫자인지 확인!\n",
    "            if not num :\n",
    "                return False            \n",
    "        return True\n",
    "    else :\n",
    "        return False"
   ]
  }
 ],
 "metadata": {
  "kernelspec": {
   "display_name": "Python 3",
   "language": "python",
   "name": "python3"
  },
  "language_info": {
   "codemirror_mode": {
    "name": "ipython",
    "version": 3
   },
   "file_extension": ".py",
   "mimetype": "text/x-python",
   "name": "python",
   "nbconvert_exporter": "python",
   "pygments_lexer": "ipython3",
   "version": "3.8.5"
  }
 },
 "nbformat": 4,
 "nbformat_minor": 4
}
