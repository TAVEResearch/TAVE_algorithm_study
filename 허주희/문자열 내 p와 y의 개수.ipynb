{
 "cells": [
  {
   "cell_type": "code",
   "execution_count": null,
   "metadata": {},
   "outputs": [],
   "source": [
    "def solution(s):\n",
    "    lower_s = s.lower()\n",
    "    a = list(lower_s)\n",
    "    \n",
    "    for i in range(len(a)) :\n",
    "        if a(i) == 'p' :\n",
    "            check_p += 1\n",
    "        if a(i) == 'y' :\n",
    "            check_y += 1\n",
    "        \n",
    "    if check_p == check_y :\n",
    "        answer = True\n",
    "    if check_p != check_y :\n",
    "        answer = False\n",
    "        \n",
    "    return answer"
   ]
  }
 ],
 "metadata": {
  "kernelspec": {
   "display_name": "Python 3",
   "language": "python",
   "name": "python3"
  },
  "language_info": {
   "codemirror_mode": {
    "name": "ipython",
    "version": 3
   },
   "file_extension": ".py",
   "mimetype": "text/x-python",
   "name": "python",
   "nbconvert_exporter": "python",
   "pygments_lexer": "ipython3",
   "version": "3.8.5"
  }
 },
 "nbformat": 4,
 "nbformat_minor": 4
}
