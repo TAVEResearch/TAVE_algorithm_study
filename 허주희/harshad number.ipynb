{
 "cells": [
  {
   "cell_type": "code",
   "execution_count": 1,
   "metadata": {},
   "outputs": [
    {
     "name": "stdout",
     "output_type": "stream",
     "text": [
      "True\n"
     ]
    }
   ],
   "source": [
    "def solution(x):\n",
    "    newx = str(x) ## x를 문자열로 바꾸기\n",
    "    sum1 = 0\n",
    "    answer = True\n",
    "\n",
    "    for i in range(len(newx)) :\n",
    "        sum1 += int(newx[i]) ## x의 각자리수 더하기\n",
    "\n",
    "    if (x % sum1 == 0) : ## 나눠서 나누어지면 true\n",
    "        answer = True\n",
    "    else :\n",
    "        answer = False\n",
    "\n",
    "    return answer\n",
    "\n",
    "x= 10\n",
    "sol = solution(x)\n",
    "print(sol)"
   ]
  }
 ],
 "metadata": {
  "kernelspec": {
   "display_name": "Python 3",
   "language": "python",
   "name": "python3"
  },
  "language_info": {
   "codemirror_mode": {
    "name": "ipython",
    "version": 3
   },
   "file_extension": ".py",
   "mimetype": "text/x-python",
   "name": "python",
   "nbconvert_exporter": "python",
   "pygments_lexer": "ipython3",
   "version": "3.8.5"
  }
 },
 "nbformat": 4,
 "nbformat_minor": 4
}
