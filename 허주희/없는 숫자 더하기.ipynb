{
 "cells": [
  {
   "cell_type": "code",
   "execution_count": 28,
   "metadata": {},
   "outputs": [
    {
     "name": "stdout",
     "output_type": "stream",
     "text": [
      "5\n"
     ]
    }
   ],
   "source": [
    "def solution(numbers):\n",
    "    answer = 0\n",
    "    \n",
    "    for n in range(0,10) :\n",
    "        check = 0\n",
    "        for i in numbers:\n",
    "            if n == i :\n",
    "                check += 1\n",
    "        if check == 0 :\n",
    "            answer += n\n",
    "    return answer\n",
    "\n",
    "numbers = [1,2,3,4,6,7,8,0]\n",
    "print(solution(numbers))"
   ]
  }
 ],
 "metadata": {
  "kernelspec": {
   "display_name": "Python 3",
   "language": "python",
   "name": "python3"
  },
  "language_info": {
   "codemirror_mode": {
    "name": "ipython",
    "version": 3
   },
   "file_extension": ".py",
   "mimetype": "text/x-python",
   "name": "python",
   "nbconvert_exporter": "python",
   "pygments_lexer": "ipython3",
   "version": "3.8.5"
  }
 },
 "nbformat": 4,
 "nbformat_minor": 4
}
