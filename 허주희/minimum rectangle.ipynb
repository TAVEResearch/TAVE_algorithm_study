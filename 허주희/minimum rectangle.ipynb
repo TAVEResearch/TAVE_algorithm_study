{
 "cells": [
  {
   "cell_type": "code",
   "execution_count": null,
   "metadata": {},
   "outputs": [],
   "source": [
    "def solution(sizes):\n",
    "    answer = 0\n",
    "\n",
    "    for i in sizes :\n",
    "        if i[0] >= i[1] :\n",
    "            continue\n",
    "        else :\n",
    "            cmt = i[0]\n",
    "            i[0] = i[1]\n",
    "            i[1] = cmt\n",
    "\n",
    "    sorted_lst = sorted(sizes, reverse=True)\n",
    "    answer = max(i[0] for i in sorted_lst) * max(i[1] for i in sorted_lst)\n",
    "\n",
    "    return answer\n",
    "\n",
    "sizes = [[60, 50], [30, 70], [60, 30], [80, 40]]\n",
    "print(solution(sizes))"
   ]
  }
 ],
 "metadata": {
  "kernelspec": {
   "display_name": "Python 3",
   "language": "python",
   "name": "python3"
  },
  "language_info": {
   "codemirror_mode": {
    "name": "ipython",
    "version": 3
   },
   "file_extension": ".py",
   "mimetype": "text/x-python",
   "name": "python",
   "nbconvert_exporter": "python",
   "pygments_lexer": "ipython3",
   "version": "3.8.5"
  }
 },
 "nbformat": 4,
 "nbformat_minor": 4
}
