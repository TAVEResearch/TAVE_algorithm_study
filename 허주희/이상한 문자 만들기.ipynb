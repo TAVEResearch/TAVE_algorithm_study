{
 "cells": [
  {
   "cell_type": "markdown",
   "metadata": {},
   "source": [
    "문자열 s는 한 개 이상의 단어로 구성되어 있습니다. 각 단어는 하나 이상의 공백문자로 구분되어 있습니다. 각 단어의 짝수번째 알파벳은 대문자로, 홀수번째 알파벳은 소문자로 바꾼 문자열을 리턴하는 함수, solution을 완성하세요."
   ]
  },
  {
   "cell_type": "code",
   "execution_count": null,
   "metadata": {},
   "outputs": [],
   "source": [
    "def solution(s):\n",
    "    answer = []\n",
    "    s_new = s.split(\" \")\n",
    "    \n",
    "    for word in s_new :\n",
    "        lst = list(word)\n",
    "        l = len(lst)\n",
    "        \n",
    "        for i in range(0, l) :\n",
    "            if i%2==0 :\n",
    "                lst[i] = lst[i].upper()\n",
    "            else :\n",
    "                lst[i] = lst[i].lower()\n",
    "            \n",
    "        new_word = \"\".join(lst)\n",
    "        answer.append(new_word)\n",
    "        \n",
    "        result = \" \".join(answer)\n",
    "    return result"
   ]
  }
 ],
 "metadata": {
  "kernelspec": {
   "display_name": "Python 3",
   "language": "python",
   "name": "python3"
  },
  "language_info": {
   "codemirror_mode": {
    "name": "ipython",
    "version": 3
   },
   "file_extension": ".py",
   "mimetype": "text/x-python",
   "name": "python",
   "nbconvert_exporter": "python",
   "pygments_lexer": "ipython3",
   "version": "3.8.5"
  }
 },
 "nbformat": 4,
 "nbformat_minor": 4
}
