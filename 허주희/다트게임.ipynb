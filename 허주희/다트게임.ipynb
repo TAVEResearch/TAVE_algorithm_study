{
 "cells": [
  {
   "cell_type": "code",
   "execution_count": 20,
   "metadata": {},
   "outputs": [
    {
     "name": "stdout",
     "output_type": "stream",
     "text": [
      "23\n"
     ]
    }
   ],
   "source": [
    "def solution(dartResult):\n",
    "    num = ''\n",
    "    score = []\n",
    "    answer = 0\n",
    "    for i in dartResult:\n",
    "        if i.isdigit():\n",
    "            num += i\n",
    "        elif i == 'S':\n",
    "            num = int(num)**1\n",
    "            score.append(num)\n",
    "            num = ''\n",
    "        elif i == 'D':\n",
    "            num = int(num)**2\n",
    "            score.append(num)\n",
    "            num = ''\n",
    "        elif i == 'T':\n",
    "            num = int(num)**3\n",
    "            score.append(num)\n",
    "            num = ''\n",
    "        elif i == '*':\n",
    "            if len(score) >= 2 :\n",
    "                score[-1] *= 2\n",
    "                score[-2] *= 2\n",
    "            else:\n",
    "                score[-1] *= 2\n",
    "        elif i == '#':\n",
    "            score[-1] *= -1\n",
    "    \n",
    "    answer = sum(score)\n",
    "    return answer\n",
    "\n",
    "dartResult = \"1S*2T*3S\"\n",
    "print(solution(dartResult))"
   ]
  }
 ],
 "metadata": {
  "kernelspec": {
   "display_name": "Python 3",
   "language": "python",
   "name": "python3"
  },
  "language_info": {
   "codemirror_mode": {
    "name": "ipython",
    "version": 3
   },
   "file_extension": ".py",
   "mimetype": "text/x-python",
   "name": "python",
   "nbconvert_exporter": "python",
   "pygments_lexer": "ipython3",
   "version": "3.8.5"
  }
 },
 "nbformat": 4,
 "nbformat_minor": 4
}
