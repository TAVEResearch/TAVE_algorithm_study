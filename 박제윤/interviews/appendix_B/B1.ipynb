{
  "nbformat": 4,
  "nbformat_minor": 0,
  "metadata": {
    "colab": {
      "name": "B1.ipynb",
      "provenance": []
    },
    "kernelspec": {
      "name": "python3",
      "display_name": "Python 3"
    },
    "language_info": {
      "name": "python"
    }
  },
  "cells": [
    {
      "cell_type": "code",
      "metadata": {
        "colab": {
          "base_uri": "https://localhost:8080/"
        },
        "id": "v8kxPBTFWSoJ",
        "outputId": "adf6ae72-4706-4b4b-878d-41ee91a58c94"
      },
      "source": [
        "\"\"\"\n",
        "출제의도: 비트연산\n",
        "\n",
        "bin(arr1[i] | arr2[i])\n",
        "\"\"\"\n",
        "from typing import List\n",
        "\n",
        "def solution(n: int, arr1: List[int], arr2: List[int]) -> List[str]:\n",
        "  maps = []\n",
        "\n",
        "  for i in range(n):\n",
        "    # OR 연산 후 이진수 변환\n",
        "    maps.append(\n",
        "        bin(arr1[i] | arr2[i])[2:]\n",
        "            .zfill(n)\n",
        "            .replace(\"1\", \"#\")\n",
        "            .replace(\"0\", \" \")\n",
        "    )\n",
        "\n",
        "  return maps\n",
        "\n",
        "\n",
        "# result = [\"######\",\n",
        "#           \"###  #\",\n",
        "#           \"##  ##\",\n",
        "#           \"####  \",\n",
        "#           \"### # \"]\n",
        "n = 6\n",
        "arr1 = [46, 33, 33, 22, 31, 50]\n",
        "arr2 = [27, 56, 19, 14, 14, 10]\n",
        "\n",
        "print(solution(n, arr1, arr2))"
      ],
      "execution_count": 6,
      "outputs": [
        {
          "output_type": "stream",
          "name": "stdout",
          "text": [
            "['######', '###  #', '##  ##', ' #### ', ' #####', '### # ']\n"
          ]
        }
      ]
    }
  ]
}