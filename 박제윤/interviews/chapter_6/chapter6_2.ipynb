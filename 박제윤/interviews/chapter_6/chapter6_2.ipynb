{
  "nbformat": 4,
  "nbformat_minor": 0,
  "metadata": {
    "colab": {
      "name": "chapter6-2.ipynb",
      "provenance": [],
      "collapsed_sections": []
    },
    "kernelspec": {
      "name": "python3",
      "display_name": "Python 3"
    },
    "language_info": {
      "name": "python"
    }
  },
  "cells": [
    {
      "cell_type": "markdown",
      "metadata": {
        "id": "hEZK0wuysTvU"
      },
      "source": [
        "# 문자열 뒤집기\n",
        "\n",
        "### 문자열을 뒤집는 함수를 작성하라. 입력값은 문자 배열이며, 리턴없이 리스트 내부를 직접 조작하라\n",
        "\n",
        "e.g.)\n",
        "\n",
        "input = [\"h\", \"e\", \"l\", \"l\", \"o\"]\n",
        "\n",
        "output = [\"o\", \"l\", \"l\", \"e\", \"h\"]"
      ]
    },
    {
      "cell_type": "markdown",
      "metadata": {
        "id": "uUe7ffJ_soOC"
      },
      "source": [
        "## 1) 풀이 0: 내꺼 (인덱스 슬라이싱)"
      ]
    },
    {
      "cell_type": "markdown",
      "metadata": {
        "id": "sfwyq0p2uI1U"
      },
      "source": [
        "e.g.) [3:0:-1] -> 3번 인덱스부터 0번 인덱스 까지 역순(-1)으로"
      ]
    },
    {
      "cell_type": "code",
      "metadata": {
        "colab": {
          "base_uri": "https://localhost:8080/"
        },
        "id": "1p8ZU_aosQv2",
        "outputId": "0bd1cad6-95df-45c3-fc83-ec76c9c198b4"
      },
      "source": [
        "from typing import List\n",
        "\n",
        "def reverse_string(s: List[str]) -> List[str]: \n",
        "  s[:] = s[::-1]\n",
        "\n",
        "\n",
        "s = [\"h\", \"e\", \"l\", \"l\", \"o\"]\n",
        "\n",
        "reverse_string(s)\n",
        "\n",
        "print(s)"
      ],
      "execution_count": 6,
      "outputs": [
        {
          "output_type": "stream",
          "name": "stdout",
          "text": [
            "['h', 'e', 'l', 'l', 'o']\n"
          ]
        }
      ]
    },
    {
      "cell_type": "markdown",
      "metadata": {
        "id": "aEzy3FFMtOJE"
      },
      "source": [
        "## 2) 풀이 1: 투 포인터를 이용한 스왑"
      ]
    },
    {
      "cell_type": "code",
      "metadata": {
        "colab": {
          "base_uri": "https://localhost:8080/"
        },
        "id": "6xPvSYI1tTqA",
        "outputId": "557b738e-d328-4aa3-cb70-a98faddec2ef"
      },
      "source": [
        "from typing import List\n",
        "\n",
        "def reverse_string(s: List[str]) -> List[str]: \n",
        "  left_pointer, right_pointer = 0, len(s) - 1\n",
        "\n",
        "  while left_pointer < right_pointer:\n",
        "    s[left_pointer], s[right_pointer] = s[right_pointer], s[left_pointer]\n",
        "    left_pointer += 1\n",
        "    right_pointer -= 1\n",
        "\n",
        "s = [\"h\", \"e\", \"l\", \"l\", \"o\"]\n",
        "\n",
        "reverse_string(s)\n",
        "\n",
        "print(s)"
      ],
      "execution_count": 5,
      "outputs": [
        {
          "output_type": "stream",
          "name": "stdout",
          "text": [
            "['o', 'l', 'l', 'e', 'h']\n"
          ]
        }
      ]
    },
    {
      "cell_type": "markdown",
      "metadata": {
        "id": "2SzcOktItL77"
      },
      "source": [
        "## 2) 풀이 2: 파이썬 다운 방식"
      ]
    },
    {
      "cell_type": "code",
      "metadata": {
        "colab": {
          "base_uri": "https://localhost:8080/"
        },
        "id": "5qGypJ7Ttuvm",
        "outputId": "fca05287-6724-4162-b109-536d2b57b350"
      },
      "source": [
        "from typing import List\n",
        "\n",
        "def reverse_string(s: List[str]) -> List[str]: \n",
        "  s.reverse()\n",
        "\n",
        "\n",
        "s = [\"h\", \"e\", \"l\", \"l\", \"o\"]\n",
        "\n",
        "reverse_string(s)\n",
        "\n",
        "print(s)"
      ],
      "execution_count": 7,
      "outputs": [
        {
          "output_type": "stream",
          "name": "stdout",
          "text": [
            "['o', 'l', 'l', 'e', 'h']\n"
          ]
        }
      ]
    }
  ]
}