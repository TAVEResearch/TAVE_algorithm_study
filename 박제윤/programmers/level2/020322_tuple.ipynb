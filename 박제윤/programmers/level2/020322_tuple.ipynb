{
  "nbformat": 4,
  "nbformat_minor": 0,
  "metadata": {
    "colab": {
      "name": "020322_tuple.ipynb",
      "provenance": [],
      "collapsed_sections": []
    },
    "kernelspec": {
      "name": "python3",
      "display_name": "Python 3"
    },
    "language_info": {
      "name": "python"
    }
  },
  "cells": [
    {
      "cell_type": "markdown",
      "source": [
        "# 튜플 (2019 카카오 개발자 겨울 인턴십)"
      ],
      "metadata": {
        "id": "Ya2f-p2l6uwr"
      }
    },
    {
      "cell_type": "markdown",
      "source": [
        "## Description"
      ],
      "metadata": {
        "id": "7kC5sy1263A3"
      }
    },
    {
      "cell_type": "markdown",
      "source": [
        "셀수있는 수량의 순서있는 열거 또는 어떤 순서를 따르는 요소들의 모음을 튜플(tuple)이라고 합니다. n개의 요소를 가진 튜플을 n-튜플(n-tuple)이라고 하며, 다음과 같이 표현할 수 있습니다.\n",
        "\n",
        "- (a1, a2, a3, ..., an)\n",
        "\n",
        "튜플은 다음과 같은 성질을 가지고 있습니다.\n",
        "\n",
        "  \n",
        "  1. 중복된 원소가 있을 수 있습니다. ex : (2, 3, 1, 2)\n",
        "  2. 원소에 정해진 순서가 있으며, 원소의 순서가 다르면 서로 다른 튜플입니다. ex : (1, 2, 3) ≠ (1, 3, 2)\n",
        "  3. 튜플의 원소 개수는 유한합니다.\n",
        "\n",
        "\n",
        "원소의 개수가 n개이고, 중복되는 원소가 없는 튜플 (a1, a2, a3, ..., an)이 주어질 때(단, a1, a2, ..., an은 자연수), 이는 다음과 같이 집합 기호 '{', '}'를 이용해 표현할 수 있습니다.\n",
        "\n",
        "\n",
        "- {{a1}, {a1, a2}, {a1, a2, a3}, {a1, a2, a3, a4}, ... {a1, a2, a3, a4, ..., an}}\n",
        "\n",
        "예를 들어 튜플이 (2, 1, 3, 4)인 경우 이는\n",
        "\n",
        "- {{2}, {2, 1}, {2, 1, 3}, {2, 1, 3, 4}}\n",
        "\n",
        "와 같이 표현할 수 있습니다. 이때, 집합은 원소의 순서가 바뀌어도 상관없으므로\n",
        "\n",
        "- {{2}, {2, 1}, {2, 1, 3}, {2, 1, 3, 4}}\n",
        "\n",
        "- {{2, 1, 3, 4}, {2}, {2, 1, 3}, {2, 1}}\n",
        "\n",
        "- {{1, 2, 3}, {2, 1}, {1, 2, 4, 3}, {2}}\n",
        "\n",
        "\n",
        "는 모두 같은 튜플 (2, 1, 3, 4)를 나타냅니다.\n",
        "\n",
        "특정 튜플을 표현하는 집합이 담긴 문자열 s가 매개변수로 주어질 때, s가 표현하는 튜플을 배열에 담아 return 하도록 solution 함수를 완성해주세요."
      ],
      "metadata": {
        "id": "AnCdlxgW60Th"
      }
    },
    {
      "cell_type": "markdown",
      "source": [
        "### 풀이 1: (처음 생각했던 풀이) 파싱 & 중복 제거 "
      ],
      "metadata": {
        "id": "qXE6AXaw7KZM"
      }
    },
    {
      "cell_type": "markdown",
      "source": [
        "(1) extract num list from s\n",
        "\n",
        "- 하나의 스트링 안에 괄호가 포함되어 있음\n",
        "\n",
        "- 분리해보자\n",
        "\n",
        "- 정규표현식 써서 줄괄호(\\{ or '}') 사이에 있는걸 전부 찾고 하나의 리스트에 어팬드\n",
        "\n",
        "\n",
        "(2) parsing\n",
        "\n",
        "- re.findall 로 원하는 모양 만들긴 했음\n",
        "\n",
        "- [{2},{2,1},{2,1,3},{2,1,3,4}]\n",
        "\n",
        "- 어? 근데 이것도 쪼개지는게 아니라 길이 1 인 리스트로 들어가네\n",
        "\n",
        "- 자세히 보니까 },{ 패턴 으로 쪼개면 숫자를 따로 분리해 낼 수 있을거 같음\n",
        "\n",
        "- split에 조건으로 넣어서 분리해보자\n",
        "\n",
        "\n",
        "(3) deduplication & preserve the order\n",
        "\n",
        "- [['2'], ['2', '1'], ['2', '1', '3'], ['2', '1', '3', '4']]\n",
        "\n",
        "- 이렇게 까지 만들었음\n",
        "\n",
        "- 반복문 돌면서 중복이 아니면 결과에 추가하고 최종 출력하면 될듯"
      ],
      "metadata": {
        "id": "N3gNG-IUW75L"
      }
    },
    {
      "cell_type": "code",
      "execution_count": 14,
      "metadata": {
        "id": "4Ua2rMQH0oAy",
        "colab": {
          "base_uri": "https://localhost:8080/"
        },
        "outputId": "2768885e-7fbb-427b-9550-9548de9d2615"
      },
      "outputs": [
        {
          "output_type": "stream",
          "name": "stdout",
          "text": [
            "s:  {{2},{2,1},{2,1,3},{2,1,3,4}}\n",
            "extracted_num_list:  ['{2},{2,1},{2,1,3},{2,1,3,4}']\n",
            "1\n",
            " \n",
            "{2},{2,1},{2,1,3},{2,1,3,4}\n",
            "['{2', '2,1', '2,1,3', '2,1,3,4}']\n",
            "extracted_num:  {2\n",
            "extracted_num:  2,1\n",
            "extracted_num:  2,1,3\n",
            "extracted_num:  2,1,3,4}\n",
            "deduplication_list:  [['2'], ['2', '1'], ['2', '1', '3'], ['2', '1', '3', '4']]\n",
            " \n",
            "[['2'], ['2', '1'], ['2', '1', '3'], ['2', '1', '3', '4']]\n",
            "dedu_nums:  ['2']\n",
            "dedu_nums:  ['2', '1']\n",
            "dedu_nums:  ['2', '1', '3']\n",
            "dedu_nums:  ['2', '1', '3', '4']\n",
            "[2, 1, 3, 4]\n",
            " \n"
          ]
        }
      ],
      "source": [
        "# date: 2022.02.03\n",
        "# author: jeiyoon\n",
        "from typing import List\n",
        "import re\n",
        "from collections import Counter\n",
        "\n",
        "def solution(s: str) -> List[int]:\n",
        "  result = []\n",
        "  \"\"\"\n",
        "  (1) extract num list from s\n",
        "  \"\"\"\n",
        "  print(\"s: \", s)\n",
        "  extracted_num_list = re.findall('\\{([^)]+)\\}', s) \n",
        "  print(\"extracted_num_list: \", extracted_num_list)\n",
        "  deduplication_list = []\n",
        "  print(len(extracted_num_list))\n",
        "  print(\" \")\n",
        "\n",
        "\n",
        "  \"\"\"\n",
        "  (2) parsing\n",
        "  \"\"\"\n",
        "  print(extracted_num_list[0])\n",
        "  print(extracted_num_list[0].split('},{'))\n",
        "\n",
        "  for extracted_num in extracted_num_list[0].split('},{'):\n",
        "    print(\"extracted_num: \", extracted_num)\n",
        "    extracted_num = extracted_num.replace('{', '')\n",
        "    extracted_num = extracted_num.replace('}', '')\n",
        "    extracted_num = extracted_num.split(',')\n",
        "    deduplication_list.append(extracted_num)\n",
        "\n",
        "  print(\"deduplication_list: \", deduplication_list)\n",
        "  print(\" \")\n",
        "\n",
        "  \"\"\"\n",
        "  (3) deduplication & preserve the order\n",
        "  \"\"\"\n",
        "  print(sorted(deduplication_list, key = lambda x: len(x)))\n",
        "\n",
        "  for dedu_nums in sorted(deduplication_list, key = lambda x: len(x)):\n",
        "    print(\"dedu_nums: \", dedu_nums)\n",
        "    for num in dedu_nums:\n",
        "      if int(num) not in result:\n",
        "        result.append(int(num))\n",
        "   \n",
        "  return result\n",
        "\n",
        "s_list = [\"{{2},{2,1},{2,1,3},{2,1,3,4}}\", # [2, 1, 3, 4]\n",
        "          \"{{1,2,3},{2,1},{1,2,4,3},{2}}\", # [2, 1, 3, 4]\n",
        "          \"{{20,111},{111}}\", # [111, 20]\n",
        "          \"{{123}}\", # [123]\n",
        "          \"{{4,2,3},{3},{2,3,4,1},{2,3}}\", # [3, 2, 4, 1]\n",
        "          ] \n",
        "\n",
        "for s in s_list:\n",
        "  print(solution(s))\n",
        "  print(\" \")\n",
        "  break"
      ]
    },
    {
      "cell_type": "markdown",
      "source": [
        "### 풀이 2: 정규 표현식 간소화 & Counter & list comprehension"
      ],
      "metadata": {
        "id": "t4FiMHe6dPvz"
      }
    },
    {
      "cell_type": "markdown",
      "source": [
        "- $\\d$ 는 숫자를 한 글자만 찾는다.\n",
        "\n",
        "- $+$는 '하나 혹은 그 이상 연결된' 이란 뜻이다.\n",
        "\n",
        "- 즉, $\\d+$는 '하나 혹은 그 이상 연결된 숫자`이다."
      ],
      "metadata": {
        "id": "6J-c8Rl8e8gB"
      }
    },
    {
      "cell_type": "code",
      "source": [
        "# date: 2022.02.03\n",
        "# author: jeiyoon\n",
        "from typing import List\n",
        "import re\n",
        "from collections import Counter\n",
        "\n",
        "\"\"\"\n",
        "\\d는 숫자를 한 글자만 찾는다.\n",
        "+는 '하나 혹은 그 이상 연결된' 이란 뜻이다.\n",
        "즉, \\d+는 '하나 혹은 그 이상 연결된 숫자`이다.\n",
        "\"\"\"\n",
        "def solution(s: str) -> List[int]:\n",
        "  print(re.findall('\\d+', s))\n",
        "  s = Counter(re.findall('\\d+', s))\n",
        "  print(\"s: \", s)\n",
        "  print(\" \")\n",
        "  print(s.items())\n",
        "  print(\" \")\n",
        "  print(sorted(s.items(), key = lambda x: x[1], reverse = True))\n",
        "  print(\" \")\n",
        "  print([k for k, v in sorted(s.items(), key = lambda x: x[1], reverse = True)])\n",
        "  print(\" \")\n",
        "  print(map(int, [k for k, v in sorted(s.items(), key = lambda x: x[1], reverse = True)]))\n",
        "  print(\" \")\n",
        "  print(list(map(int, [k for k, v in sorted(s.items(), key = lambda x: x[1], reverse = True)])))\n",
        "  \n",
        "  return list(map(int, [k for k, v in sorted(s.items(), key = lambda x: x[1], reverse = True)]))\n",
        "\n",
        "s_list = [\"{{2},{2,1},{2,1,3},{2,1,3,4}}\", # [2, 1, 3, 4]\n",
        "          \"{{1,2,3},{2,1},{1,2,4,3},{2}}\", # [2, 1, 3, 4]\n",
        "          \"{{20,111},{111}}\", # [111, 20]\n",
        "          \"{{123}}\", # [123]\n",
        "          \"{{4,2,3},{3},{2,3,4,1},{2,3}}\", # [3, 2, 4, 1]\n",
        "          ] \n",
        "\n",
        "for s in s_list:\n",
        "  print(solution(s))\n",
        "  print(\" \")\n",
        "  break"
      ],
      "metadata": {
        "id": "JLE_5YYx0uDx",
        "colab": {
          "base_uri": "https://localhost:8080/"
        },
        "outputId": "f0cc2240-1903-4091-a9c2-16c66dbfe47a"
      },
      "execution_count": 27,
      "outputs": [
        {
          "output_type": "stream",
          "name": "stdout",
          "text": [
            "['2', '2', '1', '2', '1', '3', '2', '1', '3', '4']\n",
            "s:  Counter({'2': 4, '1': 3, '3': 2, '4': 1})\n",
            " \n",
            "dict_items([('2', 4), ('1', 3), ('3', 2), ('4', 1)])\n",
            " \n",
            "[('2', 4), ('1', 3), ('3', 2), ('4', 1)]\n",
            " \n",
            "['2', '1', '3', '4']\n",
            " \n",
            "<map object at 0x7f0bc5961310>\n",
            " \n",
            "[2, 1, 3, 4]\n",
            "[2, 1, 3, 4]\n",
            " \n"
          ]
        }
      ]
    }
  ]
}