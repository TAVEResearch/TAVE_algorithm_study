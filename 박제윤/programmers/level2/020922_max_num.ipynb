{
  "nbformat": 4,
  "nbformat_minor": 0,
  "metadata": {
    "colab": {
      "name": "020922_max_num.ipynb",
      "provenance": [],
      "collapsed_sections": []
    },
    "kernelspec": {
      "name": "python3",
      "display_name": "Python 3"
    },
    "language_info": {
      "name": "python"
    }
  },
  "cells": [
    {
      "cell_type": "code",
      "source": [
        "# date: 2022.02.09\n",
        "# author: jeiyoon\n",
        "# reference: https://programmers.co.kr/learn/courses/30/lessons/42746/solution_groups?language=python3\n",
        "from typing import List\n",
        "\n",
        "def solution(numbers: List[int]) -> str:\n",
        "  numbers = list(map(str, numbers))\n",
        "  numbers.sort(key = lambda x: x * 3, reverse = True)\n",
        "  \n",
        "  # exception: [0] * n -> \"0\"\n",
        "  return str(int(''.join(numbers)))\n",
        "\n",
        "numbers_list = [[6, 10, 2], # \"6210\"\n",
        "                [3, 30, 34, 5, 9], # \"9534330\"\n",
        "                [3, 30], # \"330\" / [3, 30]\n",
        "                [3, 30, 31], # \"33130\" / [3, 31, 30]\n",
        "                [3, 30, 34], # \"34330\" / [34, 3, 30]\n",
        "                [1, 10, 100, 1000], # \"1101001000\" / [1, 10, 100, 1000]\n",
        "                [30, 302], # \"30302\" / [30, 302]\n",
        "                [0, 0, 0, 0] # \"0\" / [0]\n",
        "                ]\n",
        "\n",
        "for numbers in numbers_list:\n",
        "  print(\"result: \", solution(numbers))\n",
        "  print(\" \")"
      ],
      "metadata": {
        "colab": {
          "base_uri": "https://localhost:8080/"
        },
        "id": "XrtRrjEwyAU3",
        "outputId": "84b6369b-602f-429f-9b6e-b83155f0ae7c"
      },
      "execution_count": 94,
      "outputs": [
        {
          "output_type": "stream",
          "name": "stdout",
          "text": [
            "result:  6210\n",
            " \n",
            "result:  9534330\n",
            " \n",
            "result:  330\n",
            " \n",
            "result:  33130\n",
            " \n",
            "result:  34330\n",
            " \n",
            "result:  1101001000\n",
            " \n",
            "result:  30302\n",
            " \n",
            "result:  0\n",
            " \n"
          ]
        }
      ]
    },
    {
      "cell_type": "code",
      "execution_count": 85,
      "metadata": {
        "colab": {
          "base_uri": "https://localhost:8080/"
        },
        "id": "UE-yFGVjXSrQ",
        "outputId": "e1e57591-1b25-48c3-a41b-9b88980fa7de"
      },
      "outputs": [
        {
          "output_type": "stream",
          "name": "stdout",
          "text": [
            "result:  6210\n",
            " \n",
            "result:  9534330\n",
            " \n",
            "result:  330\n",
            " \n",
            "result:  33130\n",
            " \n",
            "result:  34330\n",
            " \n",
            "result:  1101001000\n",
            " \n",
            "result:  30302\n",
            " \n",
            "result:  0\n",
            " \n"
          ]
        }
      ],
      "source": [
        "# date: 2022.02.09\n",
        "# author: jeiyoon\n",
        "# reference: https://programmers.co.kr/questions/24627\n",
        "from typing import List\n",
        "\n",
        "def solution(numbers: List[int]) -> str:\n",
        "  answer = ''\n",
        "  manipulated_nums = []\n",
        "  # exception: [0] * n -> \"0\"\n",
        "  if sum(numbers) == 0:\n",
        "    return \"0\"\n",
        "\n",
        "  \"\"\"\n",
        "  (1) int to str \n",
        "  \"\"\"\n",
        "  max_len = 4 # given\n",
        "  numbers = map(str, numbers)\n",
        "  \n",
        "  \"\"\"\n",
        "  (2) manipulate each word & sort\n",
        "  \"\"\"\n",
        "  for idx, number in enumerate(numbers):\n",
        "    manipulated_nums.append([number, (number * 4)[:max_len]])\n",
        "\n",
        "  manipulated_nums = sorted(manipulated_nums, key =lambda x: x[1], reverse = True)\n",
        "\n",
        "  \"\"\"\n",
        "  (3) find answer in manipulated_nums\n",
        "  \"\"\"  \n",
        "  for num in manipulated_nums:\n",
        "    answer += num[0]\n",
        "\n",
        "  return answer\n",
        "\n",
        "numbers_list = [[6, 10, 2], # \"6210\"\n",
        "                [3, 30, 34, 5, 9], # \"9534330\"\n",
        "                [3, 30], # \"330\" / [3, 30]\n",
        "                [3, 30, 31], # \"33130\" / [3, 31, 30]\n",
        "                [3, 30, 34], # \"34330\" / [34, 3, 30]\n",
        "                [1, 10, 100, 1000], # \"1101001000\" / [1, 10, 100, 1000]\n",
        "                [30, 302], # \"30302\" / [30, 302]\n",
        "                [0, 0, 0, 0] # \"0\" / [0]\n",
        "                ]\n",
        "\n",
        "for numbers in numbers_list:\n",
        "  print(\"result: \", solution(numbers))\n",
        "  print(\" \")"
      ]
    },
    {
      "cell_type": "code",
      "source": [
        "\"\"\"\n",
        "can't fix it\n",
        "\"\"\"\n",
        "from typing import List\n",
        "\n",
        "def solution(numbers: List[int]) -> str:\n",
        "  answer = ''\n",
        "\n",
        "  numbers = list(map(str, numbers))\n",
        "\n",
        "  # print(sorted(numbers, key = lambda x: int(x)))\n",
        "  # print(sorted(numbers, key = lambda x: -int(x)))\n",
        "  # print(sorted(numbers, key = lambda x: -int(x[-1])))\n",
        "  # print(sorted(numbers, key = lambda x: -int(x[::-1])))\n",
        "  \n",
        "  for num in sorted(numbers, key = lambda x: (-int(x[-1]))):\n",
        "    answer += num\n",
        "\n",
        "  # 정답이 너무 클 수 있으니 문자열로 바꾸어 return 합니다.  \n",
        "  return answer\n",
        "\n",
        "numbers_list = [[6, 10, 2], # \"6210\"\n",
        "                [3, 30, 34, 5, 9], # \"9534330\"\n",
        "                [3, 30], # \"330\" / [3, 30]\n",
        "                [3, 30, 31], # \"33130\" / [3, 31, 30]\n",
        "                [3, 30, 34], # \"34330\" / [34, 3, 30]\n",
        "                [1, 10, 100, 1000], # \"1101001000\" / [1, 10, 100, 1000]\n",
        "                [30, 302], # \"30302\" / [30, 302]\n",
        "                [0, 0, 0, 0] # \"0\" / [0]\n",
        "                ]\n",
        "\n",
        "for numbers in numbers_list:\n",
        "  print(\"result: \", solution(numbers))\n",
        "  print(\" \")\n",
        "# print(\"301\" > \"9\") # F\n",
        "# print(\"30\" > \"3\") # T\n",
        "# print(\"31\" > \"30\") # T\n",
        "# print(\"3021\" > \"30\") # T\n",
        "# print(\"12\" > \"1\") # T\n",
        "print(\"302\" > \"30\") # T"
      ],
      "metadata": {
        "colab": {
          "base_uri": "https://localhost:8080/"
        },
        "id": "7teF9NVRQyZW",
        "outputId": "fb7ab6b5-dcec-44de-e37f-f80391fc07d8"
      },
      "execution_count": 43,
      "outputs": [
        {
          "output_type": "stream",
          "name": "stdout",
          "text": [
            "18\n",
            "result:  6210\n",
            " \n",
            "81\n",
            "result:  9534330\n",
            " \n",
            "33\n",
            "result:  330\n",
            " \n",
            "64\n",
            "result:  33130\n",
            " \n",
            "67\n",
            "result:  34330\n",
            " \n",
            "1111\n",
            "result:  1101001000\n",
            " \n",
            "332\n",
            "result:  30230\n",
            " \n",
            "0\n",
            "result:  0000\n",
            " \n",
            "True\n"
          ]
        }
      ]
    },
    {
      "cell_type": "code",
      "source": [
        "\"\"\"\n",
        "time out\n",
        "\"\"\"\n",
        "from typing import List\n",
        "from itertools import permutations\n",
        "\n",
        "def solution(numbers: List[int]) -> str:\n",
        "  answer = []\n",
        "  temp_sum = ''\n",
        "  permuted_nums = permutations(numbers, len(numbers))\n",
        "\n",
        "  for p_num in permuted_nums:\n",
        "    for p in p_num:\n",
        "      temp_sum += str(p)\n",
        "    answer.append(temp_sum)\n",
        "    temp_sum = ''\n",
        "\n",
        "  # 정답이 너무 클 수 있으니 문자열로 바꾸어 return 합니다.\n",
        "  return str(max(list(map(int, answer))))\n",
        "\n",
        "numbers_list = [[6, 10, 2], # \"6210\"\n",
        "                [3, 30, 34, 5, 9], # \"9534330\"\n",
        "                [3, 30], # \"330\" / [3, 30]\n",
        "                [3, 30, 31], # \"33130\" / [3, 31, 30]\n",
        "                [3, 30, 34], # \"34330\" / [34, 3, 30]\n",
        "                [1, 10, 100, 1000], # \"1101001000\" / [1, 10, 100, 1000]\n",
        "                [30, 302], # \"30302\" / [30, 302]\n",
        "                ]\n",
        "\n",
        "for numbers in numbers_list:\n",
        "  print(\"result: \", solution(numbers))\n",
        "  print(\" \")"
      ],
      "metadata": {
        "id": "Z5ldekM0r3UY",
        "colab": {
          "base_uri": "https://localhost:8080/"
        },
        "outputId": "8986ec01-b095-4ea7-b643-d463defce5b8"
      },
      "execution_count": 27,
      "outputs": [
        {
          "output_type": "stream",
          "name": "stdout",
          "text": [
            "result:  6210\n",
            " \n",
            "result:  9534330\n",
            " \n",
            "result:  330\n",
            " \n",
            "result:  33130\n",
            " \n",
            "result:  34330\n",
            " \n",
            "result:  1101001000\n",
            " \n",
            "result:  30302\n",
            " \n"
          ]
        }
      ]
    }
  ]
}